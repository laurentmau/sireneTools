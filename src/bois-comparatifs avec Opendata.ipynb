{
 "cells": [
  {
   "cell_type": "code",
   "execution_count": 1,
   "metadata": {},
   "outputs": [
    {
     "name": "stderr",
     "output_type": "stream",
     "text": [
      "2020-11-25 11:11:32,375 \n",
      "QUERY                          :\n",
      "codeCommuneEtablissement       : *\n",
      "etatAdministratifUniteLegale   : A\n",
      "categorieJuridiqueUniteLegale  : 5*\n",
      "activitePrincipaleUniteLegale  : 16.10A\n",
      "etablissementSiege             : True\n",
      "2020-11-25 11:11:32,378 File not available --> API call\n",
      "2020-11-25 11:11:33,751 ... total : 1804\n",
      "2020-11-25 11:12:22,368 ... +1000 = 1000/1804\n",
      "2020-11-25 11:12:29,587 ... +804 = 1804/1804\n",
      "2020-11-25 11:12:30,490 ... +0 = 1804/1804\n",
      "/home/ec2-user/dev/sireneTools/env/lib64/python3.7/site-packages/IPython/core/interactiveshell.py:3338: DtypeWarning: Columns (1,15,31) have mixed types.Specify dtype option on import or set low_memory=False.\n",
      "  if (await self.run_code(code, result,  async_=asy)):\n",
      "2020-11-25 11:12:40,578 - - - - - - -\n",
      "Nb entreprises                : 1805 \n",
      "Fichier                       : files/617f68670b3967dc6507851debbfb736.data\n"
     ]
    }
   ],
   "source": [
    "import logging\n",
    "\n",
    "import extract\n",
    "\n",
    "\n",
    "\n",
    "logging.basicConfig(format='%(asctime)s %(message)s')\n",
    "logger = logging.getLogger()\n",
    "logger.setLevel(logging.DEBUG)\n",
    "\n",
    "params = {\"codeCommuneEtablissement\": \"*\",\"etatAdministratifUniteLegale\": \"A\",\n",
    "'categorieJuridiqueUniteLegale': \"5*\",\n",
    "'activitePrincipaleUniteLegale': \"16.10A\", 'etablissementSiege':True}\n",
    "ts=extract.query(logger, params)\n",
    "\n",
    "#display(ts) \n",
    "\n"
   ]
  },
  {
   "cell_type": "code",
   "execution_count": null,
   "metadata": {},
   "outputs": [],
   "source": [
    "ts.dtypes"
   ]
  },
  {
   "cell_type": "code",
   "execution_count": null,
   "metadata": {},
   "outputs": [],
   "source": [
    "import pandas as pd\n",
    "si= pd.read_csv(\"chiffres-cles-2019_16.10A.csv\",sep=\";\")\n",
    "si['isData'] = 'Y'\n",
    "si = si.astype({\"Siren\":  str})\n",
    "si.reset_index(inplace=True)\n",
    "#siShort = si[['Identifiant de l\\'entreprise', 'isData']]\n",
    "#siShort.reset_index(inplace=True)\n",
    "\n"
   ]
  },
  {
   "cell_type": "code",
   "execution_count": null,
   "metadata": {},
   "outputs": [],
   "source": [
    "len(si.index)\n"
   ]
  },
  {
   "cell_type": "code",
   "execution_count": 2,
   "metadata": {},
   "outputs": [
    {
     "data": {
      "text/plain": [
       "siren                   0\n",
       "siret                   0\n",
       "activite                0\n",
       "activiteLong            0\n",
       "NAF 732                 0\n",
       "INTITULÉS 732           0\n",
       "categorie             264\n",
       "effectif              314\n",
       "commune                 0\n",
       "catJuridique            0\n",
       "denomination            0\n",
       "departement             0\n",
       "CA 1                 1558\n",
       "CA 2                 1551\n",
       "CA 3                 1524\n",
       "etatAdministratif       0\n",
       "dtype: int64"
      ]
     },
     "execution_count": 2,
     "metadata": {},
     "output_type": "execute_result"
    }
   ],
   "source": [
    "ts.isnull().sum()"
   ]
  },
  {
   "cell_type": "code",
   "execution_count": null,
   "metadata": {},
   "outputs": [],
   "source": [
    "ts_comp=pd.merge(ts, si[['Siren','Code APE','CA 1','CA 2', 'CA 3']], left_on='siren', right_on='Siren', how='outer')\n",
    "ts_comp[\"siren\"].fillna(\"EMPTY\", inplace = True)\n",
    "len(ts_comp.index)"
   ]
  },
  {
   "cell_type": "code",
   "execution_count": null,
   "metadata": {},
   "outputs": [],
   "source": [
    "ts_comp.isnull().sum()"
   ]
  },
  {
   "cell_type": "code",
   "execution_count": null,
   "metadata": {},
   "outputs": [],
   "source": [
    "ts_comp[ts_comp.Siren.isnull()]"
   ]
  },
  {
   "cell_type": "code",
   "execution_count": null,
   "metadata": {},
   "outputs": [],
   "source": [
    "len(si.index)\n"
   ]
  },
  {
   "cell_type": "code",
   "execution_count": null,
   "metadata": {},
   "outputs": [],
   "source": [
    "ts_comp.groupby(['siren' ]).size()\n"
   ]
  },
  {
   "cell_type": "code",
   "execution_count": null,
   "metadata": {},
   "outputs": [],
   "source": [
    "ts.columns\n"
   ]
  },
  {
   "cell_type": "code",
   "execution_count": null,
   "metadata": {},
   "outputs": [],
   "source": [
    "ts_si=pd.merge(ts, siShort, left_on='siren',right_on='Identifiant de l\\'entreprise', how='outer')\n",
    "\n",
    "len(ts_si.index)"
   ]
  },
  {
   "cell_type": "code",
   "execution_count": null,
   "metadata": {},
   "outputs": [],
   "source": [
    "def UV(u, v):\n",
    "    if u==u and v==v:\n",
    "        return 'UV'\n",
    "    else:\n",
    "        if u == u  and not v ==v:\n",
    "             return 'UNotV'\n",
    "        else:\n",
    "            if not u == u  and not v ==v:\n",
    "                return 'NotUNotV'\n",
    "            return 'NotUV'\n",
    "def U(u):\n",
    "    if u==u:\n",
    "        return \"Y\"\n",
    "    else:\n",
    "        return \"N\"\n",
    "\n",
    "\n",
    "ts_comp['CA1YN'] = list(map(UV, ts_comp['CA 1_x'], ts_comp['CA 1_y']))\n",
    "\n",
    "\n",
    "ts_comp.reset_index(drop=True, inplace=True)\n",
    "\n",
    "len(ts_comp.index)"
   ]
  },
  {
   "cell_type": "code",
   "execution_count": null,
   "metadata": {},
   "outputs": [],
   "source": [
    "ts_comp.groupby(['CA1YN' ]).size()\n"
   ]
  },
  {
   "cell_type": "code",
   "execution_count": null,
   "metadata": {},
   "outputs": [],
   "source": [
    "ts_comp[ts_comp['CA1YN']=='NotUV']"
   ]
  },
  {
   "cell_type": "code",
   "execution_count": null,
   "metadata": {},
   "outputs": [],
   "source": [
    "import pandas as pd\n",
    "piv=pd.pivot_table(ts_si,index=['etatAdministratif','catJ'], columns=['SI'], values=[\"catJuridique\"], aggfunc='count', margins=True,fill_value=0)\n",
    "\n",
    "piv"
   ]
  },
  {
   "cell_type": "code",
   "execution_count": null,
   "metadata": {},
   "outputs": [],
   "source": [
    "catFilter = ['5']\n",
    "etatFilter = ['A']\n",
    "SIFilter=['N']\n",
    "ts_si[ts_si.catJ.isin(catFilter) & ts_si.etatAdministratif.isin(etatFilter) & ts_si.SI.isin(SIFilter) ]\n"
   ]
  },
  {
   "cell_type": "code",
   "execution_count": null,
   "metadata": {},
   "outputs": [],
   "source": [
    "import pandas as pd\n",
    "piv=pd.pivot_table(ts_si,index=['etatAdministratif'],columns=['UV'], values=[\"index\"], aggfunc='count')\n",
    "\n",
    "piv"
   ]
  },
  {
   "cell_type": "code",
   "execution_count": null,
   "metadata": {},
   "outputs": [],
   "source": [
    "print(ts['CA 3'].isnull().sum())\n",
    "print(ts['CA 3'].notnull().sum())"
   ]
  },
  {
   "cell_type": "code",
   "execution_count": null,
   "metadata": {},
   "outputs": [],
   "source": [
    "import pandas as pd\n",
    "\n",
    "labels = [\"{0} - {1}\".format(i, i + 9) for i in range(0, 100, 1000000)]\n",
    "ts['group'] = pd.cut(ts[\"CA 1\"], range(0, 10000000, 1000000), right=False,)\n",
    "\n",
    "pd.pivot_table(ts,index=['group'],values=[\"siret\"], aggfunc='count')"
   ]
  }
 ],
 "metadata": {
  "kernelspec": {
   "display_name": "Python 3",
   "language": "python",
   "name": "python3"
  },
  "language_info": {
   "codemirror_mode": {
    "name": "ipython",
    "version": 3
   },
   "file_extension": ".py",
   "mimetype": "text/x-python",
   "name": "python",
   "nbconvert_exporter": "python",
   "pygments_lexer": "ipython3",
   "version": "3.7.9"
  }
 },
 "nbformat": 4,
 "nbformat_minor": 4
}
